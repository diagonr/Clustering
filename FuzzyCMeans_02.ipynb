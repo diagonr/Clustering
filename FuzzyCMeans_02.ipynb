{
 "cells": [
  {
   "cell_type": "code",
   "execution_count": 20,
   "metadata": {},
   "outputs": [
    {
     "data": {
      "image/png": "[encoded data removed]",
      "text/plain": [
       "<matplotlib.figure.Figure at 0x1af44d6c160>"
      ]
     },
     "metadata": {},
     "output_type": "display_data"
    }
   ],
   "source": [
    "import pandas as pd\n",
    "import numpy as np\n",
    "import random\n",
    "import operator\n",
    "import math\n",
    "from sklearn.datasets.samples_generator import make_blobs\n",
    "from sklearn import datasets\n",
    "import matplotlib.pyplot as plt\n",
    "from matplotlib import style\n",
    "\n",
    "x, y = make_blobs(n_samples=100, centers=5, n_features=2, random_state=1)\n",
    "a, b = datasets.make_circles(n_samples=200, factor=.5, noise=.05)\n",
    "c, d = datasets.make_moons(n_samples=200, noise=.05)\n",
    "\n",
    "#df = pd.DataFrame.from_dict({'x':x})\n",
    "df = pd.DataFrame(x)\n",
    "# Number of Attributes\n",
    "num_attr = len(df.columns) - 1\n",
    "\n",
    "# Number of Clusters\n",
    "k = 3\n",
    "\n",
    "# Maximum number of iterations\n",
    "MAX_ITER = 100\n",
    "\n",
    "# Number of data points\n",
    "n = len(df)\n",
    "\n",
    "# Fuzzy parameter\n",
    "m = 2.00\n",
    "\n",
    "\n",
    "def initializeMembershipMatrix():\n",
    "    membership_mat = list()\n",
    "    for i in range(n):\n",
    "        random_num_list = [random.random() for i in range(k)]\n",
    "        summation = sum(random_num_list)\n",
    "        temp_list = [x/summation for x in random_num_list]\n",
    "        membership_mat.append(temp_list)\n",
    "    return membership_mat\n",
    "\n",
    "\n",
    "def calculateClusterCenter(membership_mat):\n",
    "    cluster_centers = list()\n",
    "    for j in range(k):\n",
    "        x = list(membership_mat[j])\n",
    "        #xraised = [e ** m for e in x]\n",
    "        xraised = list(map(lambda x: x ** m, x))\n",
    "        denominator = sum(xraised)\n",
    "        temp_num = list()\n",
    "        for i in range(len(xraised)):\n",
    "            data_point = list(df.iloc[i])\n",
    "            prod = [xraised[i] * val for val in data_point]\n",
    "            temp_num.append(prod)\n",
    "        numerator = map(sum, zip(*temp_num))\n",
    "        center = [z/denominator for z in numerator]\n",
    "        cluster_centers.append(center)\n",
    "    return cluster_centers\n",
    "\n",
    "\n",
    "def updateMembershipValue(membership_mat, cluster_centers):\n",
    "    p = float(2/(m-1))\n",
    "    for i in range(n):\n",
    "        x = list(df.iloc[i])\n",
    "        distances = [np.linalg.norm(list(map(operator.sub, x, cluster_centers[j]))) for j in range(k)]\n",
    "        for j in range(k):\n",
    "            den = sum([math.pow(float(distances[j]/distances[c]), p) for c in range(k)])\n",
    "            if den == 0:\n",
    "                print('{} index is 0.'.format(j))\n",
    "            membership_mat[i][j] = float(1/den)       \n",
    "    return membership_mat\n",
    "\n",
    "def fuzzyCMeansClustering():\n",
    "    # Membership Matrix\n",
    "    membership_mat = initializeMembershipMatrix()\n",
    "    curr = 0\n",
    "    cluster_centers = None\n",
    "    while curr <= MAX_ITER:\n",
    "        previous = cluster_centers\n",
    "        cluster_centers = calculateClusterCenter(membership_mat)\n",
    "        membership_mat = updateMembershipValue(membership_mat, cluster_centers)\n",
    "        #cluster_labels = getClusters(membership_mat)\n",
    "        isOptimal = True\n",
    "        \n",
    "        if previous == None:\n",
    "            break\n",
    "            \n",
    "        '''    for center in cluster_centers:\n",
    "                original = previous[center]\n",
    "                current = self.centers[center]\n",
    "                if np.sum( (current - original) / original * 100.0) > self.tolerance:\n",
    "                    isOptimal = False\n",
    "            if isOptimal:\n",
    "                break\n",
    "        '''\n",
    "        \n",
    "        curr += 1\n",
    "    #print(membership_mat)\n",
    "    #return cluster_labels, cluster_centers\n",
    "    return cluster_centers, membership_mat\n",
    "\n",
    "\n",
    "#labels, centers = fuzzyCMeansClustering()\n",
    "centers, mems = fuzzyCMeansClustering()\n",
    "classes = {}\n",
    "colors = 10*[\"r\", \"g\", \"c\", \"b\", \"k\"]\n",
    "\n",
    "for i in range(k):\n",
    "    classes[i] = []\n",
    "\n",
    "index = 0\n",
    "for value in x:\n",
    "    classification = mems[index].index(max(mems[index]))\n",
    "    classes[classification].append(value)\n",
    "    index += 1\n",
    "for classification in classes:\n",
    "    color = colors[classification]\n",
    "    for features in classes[classification]:\n",
    "        plt.scatter(features[0], features[1], color = color,s = 30)\n",
    "    \n",
    "plt.show()\n"
   ]
  },
  {
   "cell_type": "code",
   "execution_count": null,
   "metadata": {
    "collapsed": true
   },
   "outputs": [],
   "source": []
  },
  {
   "cell_type": "code",
   "execution_count": null,
   "metadata": {
    "collapsed": true
   },
   "outputs": [],
   "source": []
  },
  {
   "cell_type": "code",
   "execution_count": null,
   "metadata": {
    "collapsed": true
   },
   "outputs": [],
   "source": []
  },
  {
   "cell_type": "code",
   "execution_count": null,
   "metadata": {
    "collapsed": true
   },
   "outputs": [],
   "source": []
  },
  {
   "cell_type": "code",
   "execution_count": null,
   "metadata": {
    "collapsed": true
   },
   "outputs": [],
   "source": []
  }
 ],
 "metadata": {
  "kernelspec": {
   "display_name": "Python 3",
   "language": "python",
   "name": "python3"
  },
  "language_info": {
   "codemirror_mode": {
    "name": "ipython",
    "version": 3
   },
   "file_extension": ".py",
   "mimetype": "text/x-python",
   "name": "python",
   "nbconvert_exporter": "python",
   "pygments_lexer": "ipython3",
   "version": "3.6.3"
  }
 },
 "nbformat": 4,
 "nbformat_minor": 2
}
