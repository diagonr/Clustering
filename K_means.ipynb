{
 "cells": [
  {
   "cell_type": "code",
   "execution_count": 2,
   "metadata": {
    "collapsed": true
   },
   "outputs": [],
   "source": [
    "import pandas as pd\n",
    "import numpy as np\n",
    "from sklearn.datasets.samples_generator import make_blobs\n",
    "import matplotlib.pyplot as plt\n",
    "from matplotlib import style\n",
    "\n",
    "\n",
    "class K_means:\n",
    "    \n",
    "    def __init__(self, k=3, tolerance=0.0001, max_iter=500):\n",
    "        self.k = k\n",
    "        self.tolerance = tolerance\n",
    "        self.max_iter = max_iter\n",
    "        \n",
    "    def euclidean(self, feature_one, feature_two):\n",
    "        distance = 0\n",
    "        \n",
    "        if (len(feature_one) != len(feature_two)):\n",
    "            return -1\n",
    "            \n",
    "        for i in range(len(feature_one)):\n",
    "            distance += (feature_one[i] - feature_two[i]) ** 2\n",
    "        \n",
    "        ed = np.sqrt(distance)\n",
    "        return ed\n",
    "        \n",
    "    def fit(self, data):\n",
    "        self.centers = {}\n",
    "        \n",
    "        # Set the centroids to be the first numbers in the data\n",
    "        for i in range(self.k):\n",
    "            self.centers[i] = data[i]\n",
    "            \n",
    "        # Start iteration\n",
    "        for i in range(self.max_iter):\n",
    "            self.classes = {}\n",
    "            \n",
    "            # Create list for every centroid\n",
    "            for i in range(self.k):\n",
    "                self.classes[i] = []\n",
    "                \n",
    "            # Find the distance between a point and cluster, then choose the nearest centroid\n",
    "            for features in data:\n",
    "                distances = [self.euclidean(features, self.centers[center]) for center in self.centers]\n",
    "                classification = distances.index(min(distances))\n",
    "                self.classes[classification].append(features)\n",
    "                \n",
    "            previous = dict(self.centers)\n",
    "            \n",
    "            # Average cluster datapoints for recalculations\n",
    "            for classification in self.classes:\n",
    "                self.centers[classification] = np.average(self.classes[classification], axis = 0)\n",
    "            \n",
    "            isOptimal = True\n",
    "            \n",
    "            for center in self.centers:\n",
    "                original = previous[center]\n",
    "                current = self.centers[center]\n",
    "                if np.sum( (current - original) / original * 100.0) > self.tolerance:\n",
    "                    isOptimal = False\n",
    "                    \n",
    "            if isOptimal:\n",
    "                break\n",
    "                \n",
    "        def predict(self, data):\n",
    "            distances = [self.euclidean(data, self.centers[center]) for center in centers]\n",
    "            classification = distances.index(min(distances))\n",
    "            return classification"
   ]
  },
  {
   "cell_type": "code",
   "execution_count": 7,
   "metadata": {},
   "outputs": [
    {
     "name": "stdout",
     "output_type": "stream",
     "text": [
      "Final Centroids: [3.6666666666666665, 9.0]\n",
      "Final Centroids: [7.0, 4.333333333333333]\n",
      "Final Centroids: [1.5, 3.5]\n"
     ]
    },
    {
     "data": {
      "image/png": "[encoded data removed]",
      "text/plain": [
       "<matplotlib.figure.Figure at 0x25f1a186080>"
      ]
     },
     "metadata": {},
     "output_type": "display_data"
    }
   ],
   "source": [
    "\n",
    "def main():\n",
    "    x, y = make_blobs(n_samples=100, centers=5, n_features=2, random_state=1)\n",
    "    data = [[2, 10], [5, 8], [1, 2], [2, 5], [7, 5], [6, 4], [8, 4], [4, 9]]\n",
    "    km = K_means(k=3)\n",
    "    km.fit(data)\n",
    "    \n",
    "    colors = 10*[\"r\", \"g\", \"c\", \"b\", \"k\"]\n",
    "\n",
    "    for center in km.centers:\n",
    "        plt.scatter(km.centers[center][0], km.centers[center][1], s = 130, marker = \"x\")\n",
    "        print('Final Centroids: [{}, {}]'.format(km.centers[center][0], km.centers[center][1]))\n",
    "\n",
    "    for classification in km.classes:\n",
    "        color = colors[classification]\n",
    "        for features in km.classes[classification]:\n",
    "            plt.scatter(features[0], features[1], color = color,s = 30)\n",
    "    \n",
    "    plt.show()\n",
    "\n",
    "\n",
    "if __name__ == \"__main__\":\n",
    "    main()"
   ]
  },
  {
   "cell_type": "code",
   "execution_count": null,
   "metadata": {
    "collapsed": true
   },
   "outputs": [],
   "source": []
  }
 ],
 "metadata": {
  "kernelspec": {
   "display_name": "Python 3",
   "language": "python",
   "name": "python3"
  },
  "language_info": {
   "codemirror_mode": {
    "name": "ipython",
    "version": 3
   },
   "file_extension": ".py",
   "mimetype": "text/x-python",
   "name": "python",
   "nbconvert_exporter": "python",
   "pygments_lexer": "ipython3",
   "version": "3.6.3"
  }
 },
 "nbformat": 4,
 "nbformat_minor": 2
}
